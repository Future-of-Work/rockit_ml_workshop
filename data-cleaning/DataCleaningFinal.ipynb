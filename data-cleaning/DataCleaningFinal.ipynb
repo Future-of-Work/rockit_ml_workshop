{
 "cells": [
  {
   "cell_type": "markdown",
   "metadata": {
    "nteract": {
     "transient": {
      "deleting": false
     }
    }
   },
   "source": [
    "## Importing libraries\n",
    "Python libraries are packages that have specific functions or tools that we want to use."
   ]
  },
  {
   "cell_type": "code",
   "execution_count": 1,
   "metadata": {
    "gather": {
     "logged": 1610229503669
    },
    "jupyter": {
     "outputs_hidden": false,
     "source_hidden": false
    },
    "nteract": {
     "transient": {
      "deleting": false
     }
    }
   },
   "outputs": [],
   "source": [
    "import pandas as pd\n",
    "import numpy as np\n",
    "import matplotlib.pyplot as plt"
   ]
  },
  {
   "cell_type": "markdown",
   "metadata": {
    "nteract": {
     "transient": {
      "deleting": false
     }
    }
   },
   "source": [
    "## Importing data and brief analysis\n",
    "Here is where we're importing our data into our code so we can use it. We'll also look at the dataset itself to see what preprocessing we need to do.\n",
    "\n",
    "**Goal: Depending on the time of call, service name, and council district, can we predict if the ticket is closed?**"
   ]
  },
  {
   "cell_type": "code",
   "execution_count": 2,
   "metadata": {
    "gather": {
     "logged": 1610229532504
    },
    "jupyter": {
     "outputs_hidden": false,
     "source_hidden": false
    },
    "nteract": {
     "transient": {
      "deleting": false
     }
    }
   },
   "outputs": [
    {
     "data": {
      "text/html": [
       "<div>\n",
       "<style scoped>\n",
       "    .dataframe tbody tr th:only-of-type {\n",
       "        vertical-align: middle;\n",
       "    }\n",
       "\n",
       "    .dataframe tbody tr th {\n",
       "        vertical-align: top;\n",
       "    }\n",
       "\n",
       "    .dataframe thead th {\n",
       "        text-align: right;\n",
       "    }\n",
       "</style>\n",
       "<table border=\"1\" class=\"dataframe\">\n",
       "  <thead>\n",
       "    <tr style=\"text-align: right;\">\n",
       "      <th></th>\n",
       "      <th>service_request_id</th>\n",
       "      <th>requested_datetime</th>\n",
       "      <th>updated_datetime</th>\n",
       "      <th>source</th>\n",
       "      <th>service_name</th>\n",
       "      <th>description</th>\n",
       "      <th>agency_responsible</th>\n",
       "      <th>address</th>\n",
       "      <th>council_district</th>\n",
       "      <th>status_description</th>\n",
       "      <th>lat</th>\n",
       "      <th>long</th>\n",
       "    </tr>\n",
       "  </thead>\n",
       "  <tbody>\n",
       "    <tr>\n",
       "      <th>0</th>\n",
       "      <td>5088907</td>\n",
       "      <td>2018-07-01 01:38:00</td>\n",
       "      <td>NaN</td>\n",
       "      <td>UNKNOWN</td>\n",
       "      <td>ALLEY POTHOLE</td>\n",
       "      <td>ALLEY POTHOLE, POTHL</td>\n",
       "      <td>LPM</td>\n",
       "      <td>4305 W BROADWAY , LOUISVILLE, KY, 40211</td>\n",
       "      <td>5.0</td>\n",
       "      <td>OPEN</td>\n",
       "      <td>38.250791</td>\n",
       "      <td>-85.824421</td>\n",
       "    </tr>\n",
       "    <tr>\n",
       "      <th>1</th>\n",
       "      <td>5088879</td>\n",
       "      <td>2018-07-01 01:40:00</td>\n",
       "      <td>NaN</td>\n",
       "      <td>UNKNOWN</td>\n",
       "      <td>STREET TREE</td>\n",
       "      <td>STREET EASEMENT TREES, OBSTRUCTION, ROWOB</td>\n",
       "      <td>LPM</td>\n",
       "      <td>4305 W BROADWAY , LOUISVILLE, KY, 40211</td>\n",
       "      <td>5.0</td>\n",
       "      <td>OPEN</td>\n",
       "      <td>38.250791</td>\n",
       "      <td>-85.824421</td>\n",
       "    </tr>\n",
       "    <tr>\n",
       "      <th>2</th>\n",
       "      <td>5088846</td>\n",
       "      <td>2018-07-01 06:28:00</td>\n",
       "      <td>NaN</td>\n",
       "      <td>UNKNOWN</td>\n",
       "      <td>HIGH GRASS WEEDS</td>\n",
       "      <td>HIGH GRASS, WEEDS, TREES, PRIVATE PROPERTY</td>\n",
       "      <td>IPL-PROPERTY MAINTENANCE DIV.</td>\n",
       "      <td>7310 MARIA AVE , LOUISVILLE, KY, 40222</td>\n",
       "      <td>7.0</td>\n",
       "      <td>CLOSED</td>\n",
       "      <td>38.281501</td>\n",
       "      <td>-85.619034</td>\n",
       "    </tr>\n",
       "    <tr>\n",
       "      <th>3</th>\n",
       "      <td>5080683</td>\n",
       "      <td>2018-07-01 07:33:00</td>\n",
       "      <td>NaN</td>\n",
       "      <td>UNKNOWN</td>\n",
       "      <td>TRASH PVT PROP</td>\n",
       "      <td>TRASH PRIVATE PROPERTY, TRASH, GARBAGE, JUNK</td>\n",
       "      <td>IPL-PROPERTY MAINTENANCE DIV.</td>\n",
       "      <td>921 DENMARK ST , LOUISVILLE, KY, 40215</td>\n",
       "      <td>15.0</td>\n",
       "      <td>CLOSED</td>\n",
       "      <td>38.195922</td>\n",
       "      <td>-85.775900</td>\n",
       "    </tr>\n",
       "    <tr>\n",
       "      <th>4</th>\n",
       "      <td>5080684</td>\n",
       "      <td>2018-07-01 07:38:00</td>\n",
       "      <td>NaN</td>\n",
       "      <td>UNKNOWN</td>\n",
       "      <td>TRASH PVT PROP</td>\n",
       "      <td>TRASH PRIVATE PROPERTY, TRASH, GARBAGE, JUNK</td>\n",
       "      <td>IPL-PROPERTY MAINTENANCE DIV.</td>\n",
       "      <td>921 W EVELYN AVE , LOUISVILLE, KY, 40215</td>\n",
       "      <td>15.0</td>\n",
       "      <td>CLOSED</td>\n",
       "      <td>38.196846</td>\n",
       "      <td>-85.776010</td>\n",
       "    </tr>\n",
       "  </tbody>\n",
       "</table>\n",
       "</div>"
      ],
      "text/plain": [
       "   service_request_id   requested_datetime  updated_datetime   source  \\\n",
       "0             5088907  2018-07-01 01:38:00               NaN  UNKNOWN   \n",
       "1             5088879  2018-07-01 01:40:00               NaN  UNKNOWN   \n",
       "2             5088846  2018-07-01 06:28:00               NaN  UNKNOWN   \n",
       "3             5080683  2018-07-01 07:33:00               NaN  UNKNOWN   \n",
       "4             5080684  2018-07-01 07:38:00               NaN  UNKNOWN   \n",
       "\n",
       "       service_name                                   description  \\\n",
       "0     ALLEY POTHOLE                          ALLEY POTHOLE, POTHL   \n",
       "1       STREET TREE     STREET EASEMENT TREES, OBSTRUCTION, ROWOB   \n",
       "2  HIGH GRASS WEEDS    HIGH GRASS, WEEDS, TREES, PRIVATE PROPERTY   \n",
       "3    TRASH PVT PROP  TRASH PRIVATE PROPERTY, TRASH, GARBAGE, JUNK   \n",
       "4    TRASH PVT PROP  TRASH PRIVATE PROPERTY, TRASH, GARBAGE, JUNK   \n",
       "\n",
       "              agency_responsible                                   address  \\\n",
       "0                            LPM   4305 W BROADWAY , LOUISVILLE, KY, 40211   \n",
       "1                            LPM   4305 W BROADWAY , LOUISVILLE, KY, 40211   \n",
       "2  IPL-PROPERTY MAINTENANCE DIV.    7310 MARIA AVE , LOUISVILLE, KY, 40222   \n",
       "3  IPL-PROPERTY MAINTENANCE DIV.    921 DENMARK ST , LOUISVILLE, KY, 40215   \n",
       "4  IPL-PROPERTY MAINTENANCE DIV.  921 W EVELYN AVE , LOUISVILLE, KY, 40215   \n",
       "\n",
       "   council_district status_description        lat       long  \n",
       "0               5.0               OPEN  38.250791 -85.824421  \n",
       "1               5.0               OPEN  38.250791 -85.824421  \n",
       "2               7.0             CLOSED  38.281501 -85.619034  \n",
       "3              15.0             CLOSED  38.195922 -85.775900  \n",
       "4              15.0             CLOSED  38.196846 -85.776010  "
      ]
     },
     "execution_count": 2,
     "metadata": {},
     "output_type": "execute_result"
    }
   ],
   "source": [
    "reports = pd.read_csv('Citizen311Data_July_2018.csv')\n",
    "\n",
    "reports.head()"
   ]
  },
  {
   "cell_type": "code",
   "execution_count": 3,
   "metadata": {
    "gather": {
     "logged": 1610230044667
    },
    "jupyter": {
     "outputs_hidden": false,
     "source_hidden": false
    },
    "nteract": {
     "transient": {
      "deleting": false
     }
    }
   },
   "outputs": [
    {
     "name": "stdout",
     "output_type": "stream",
     "text": [
      "['UNKNOWN']\n",
      "[nan]\n"
     ]
    }
   ],
   "source": [
    "print(reports.source.unique())\n",
    "print(reports.updated_datetime.unique())"
   ]
  },
  {
   "cell_type": "markdown",
   "metadata": {
    "nteract": {
     "transient": {
      "deleting": false
     }
    }
   },
   "source": [
    "We can drop (remove) the **updated_datetime** and **source** columns since there is only one value for all of the records. We can also drop the **service_request_id** column, as it has no bearing on whether a ticket is open or closed."
   ]
  },
  {
   "cell_type": "code",
   "execution_count": 4,
   "metadata": {
    "gather": {
     "logged": 1610230135993
    },
    "jupyter": {
     "outputs_hidden": false,
     "source_hidden": false
    },
    "nteract": {
     "transient": {
      "deleting": false
     }
    }
   },
   "outputs": [],
   "source": [
    "reports = reports.drop(columns=['updated_datetime', 'source', 'service_request_id'])"
   ]
  },
  {
   "cell_type": "code",
   "execution_count": 5,
   "metadata": {
    "gather": {
     "logged": 1610230501315
    },
    "jupyter": {
     "outputs_hidden": false,
     "source_hidden": false
    },
    "nteract": {
     "transient": {
      "deleting": false
     }
    }
   },
   "outputs": [
    {
     "name": "stdout",
     "output_type": "stream",
     "text": [
      "4TH COUNCIL DISTRICT\n",
      "AIR POLLUTION CONTROL\n",
      "ANIMAL SERVICES\n",
      "AT&T\n",
      "CABLE COMPANY\n",
      "COMMUNITY FORESTRY ARBORIST\n",
      "EMERGENCY MANAGEMENT AGENCY\n",
      "HEALTH DEPARTMENT\n",
      "HEALTH DEPT - ENVIR. HEALTH\n",
      "IPL - BUILDING DIVISION\n",
      "IPL - PERMIT/LICENSE DIVISION\n",
      "IPL - VACANT PROPERTY CLEANING\n",
      "IPL-ELECTRICAL INSPECTION DIV.\n",
      "IPL-INSPECTION,PERMIT,LICENSES\n",
      "IPL-PROPERTY MAINTENANCE DIV.\n",
      "KY DEPT OF TRANSPORTATION\n",
      "LOUISVILLE FIRE DEPARTMENT\n",
      "LOUISVILLE GAS AND ELECTRIC\n",
      "LOUISVILLE WATER COMPANY\n",
      "LPM\n",
      "MAYOR'S OFFICE\n",
      "METRO DEVELOPMENT AUTH.\n",
      "METRO FACILITIES MANAGEMENT\n",
      "METRO PARKS\n",
      "METRO POLICE DEPARTMENT\n",
      "METROCALL\n",
      "METROPOLITAN SEWER DISTRICT\n",
      "MSD DEVELOPMENT PLAN REVIEW\n",
      "MSD FIELD ENGINEERING\n",
      "MSD NON SERVICE CALL\n",
      "MSD SANITARY MAINTENANCE\n",
      "N-GOVERNMENT\n",
      "N-METRO AGENCIES\n",
      "N-MISCELLANEOUS\n",
      "N-PICKUP DAYS\n",
      "N-POLICE & JUDICIAL\n",
      "N-SOCIAL SERVICES\n",
      "N-UTILITY\n",
      "N-WEATHER EVENTS\n",
      "NON SERVICE SWMS\n",
      "PARKING AUTHORITY OF RIVER CTY\n",
      "PUBLIC WORKS - ELEC MAINT\n",
      "PUBLIC WORKS - SIGNS MARKINGS\n",
      "PUBLIC WORKS - TRAFFIC ENG\n",
      "PUBLIC WORKS ADMINISTRATION\n",
      "PUBLIC WORKS INSPECTION GROUP\n",
      "PUBLIC WORKS STORM/SNOW EVENT\n",
      "Public Works Engineering Div.\n",
      "ST. MATTHEWS (CITY OF)\n",
      "SWMS - ADMINISTRATION\n",
      "SWMS - BULK WASTE\n",
      "SWMS - ENFORCEMENT UNIT\n",
      "SWMS - STREET CLEANING\n",
      "SWMS - WASTE COLLECTION\n",
      "TRANSIT AUTH. OF RIVER CITY\n",
      "UNABLE TO PROCESS\n"
     ]
    }
   ],
   "source": [
    "for x in np.sort(reports.agency_responsible.unique()):\n",
    "    print(x)\n"
   ]
  },
  {
   "cell_type": "code",
   "execution_count": 6,
   "metadata": {},
   "outputs": [
    {
     "name": "stdout",
     "output_type": "stream",
     "text": [
      "ABANDON VEHICLE\n",
      "ACCESS PARK ZONE\n",
      "ALC BEV CONTROL\n",
      "ALLEY DRAINAGE\n",
      "ALLEY POTHOLE\n",
      "ALLEY REPAIR\n",
      "ALLEY RESURFACE\n",
      "ALLEY TREE\n",
      "ALLEY TREE EVAL\n",
      "ANIMAL CRUELTY\n",
      "ANIMAL NOISE\n",
      "ANIMAL NUISANCE\n",
      "APZ CURB RAMP\n",
      "ASBESTOS\n",
      "BASKETBALL GOAL\n",
      "BEDBUGS CODES\n",
      "BEDBUGS HEALTH\n",
      "BIKE PEDESTRIAN\n",
      "COMPLIMENT\n",
      "CURB NEW\n",
      "CURB REPAIR\n",
      "DAMAGE GARB CART\n",
      "DAMG RECYCL CART\n",
      "DANGEROUS ANIMAL\n",
      "DDI\n",
      "DEAD ANIMAL\n",
      "DUMPSTER OR POD\n",
      "DUST\n",
      "EASEMENT OTHER\n",
      "EASEMNT DRAINAGE\n",
      "ELECTRICAL\n",
      "EMERGENCY MISC\n",
      "EXTERIOR VIOL\n",
      "FUMES\n",
      "GARBAGE MISSED\n",
      "GARBAGE VIOLATIO\n",
      "GRAFFITI\n",
      "GRAFFITI PVTPROP\n",
      "GUARDRAIL NEW\n",
      "GUARDRAIL REPAIR\n",
      "HEALTH CONCERNS\n",
      "HIGH GRASS WEEDS\n",
      "ILLEGAL DUMPING\n",
      "ILLEGAL PARKING\n",
      "ILLEGAL SIGN\n",
      "INTERIOR VIOL\n",
      "JUNK MISSED\n",
      "JUNK VIOLATION\n",
      "LIGHTING NEW\n",
      "LIGHTING REPAIR\n",
      "LITTER BASKETS\n",
      "LONG LINE STRIPE\n",
      "LOUISVILLE LOOP\n",
      "MARKING NEW\n",
      "MARKING REFRESH\n",
      "METRO OWNED PROP\n",
      "MISCELLANEOUS\n",
      "MOSQUITOS\n",
      "NANIMAL SERVICES\n",
      "NCAP NBHE PL MIN\n",
      "NCODES & REGS\n",
      "NCOUNCIL\n",
      "NCOUNTY CLERK\n",
      "NDEVLOU PAD BRTD\n",
      "NEW BLDG ISSUE\n",
      "NEW GARBAGE CART\n",
      "NEW RECYCLE CART\n",
      "NGARBAGE DAY\n",
      "NGARBAGE QUEST\n",
      "NHEALTH AND WELL\n",
      "NHOME REPAIR\n",
      "NHOUSING AUTH\n",
      "NJAIL JCYC HIP\n",
      "NJUNK QUESTION\n",
      "NJUNK WEEK\n",
      "NKDOT\n",
      "NLGE OUTAGE WIRE\n",
      "NMETRO AGY OTHER\n",
      "NMETRO PARKS\n",
      "NMISC OTHER\n",
      "NNON EMERG LMPD\n",
      "NOISE CONCERNS\n",
      "NPARC\n",
      "NPOLICE JUD OTH\n",
      "NPRIVATE BUSINES\n",
      "NPUBLIC WORKS\n",
      "NPVA\n",
      "NRECYCLING DAY\n",
      "NRECYCLING QUEST\n",
      "NSWMS OTHER\n",
      "NTENANT LEGALAID\n",
      "NWATER CO\n",
      "NYARD WASTE DAY\n",
      "NYARDWASTE QUEST\n",
      "ODOR AIR POLL\n",
      "OPEN BURNING\n",
      "OPEN REFERRAL\n",
      "OVERGROWTH\n",
      "PARK MAINTAIN\n",
      "PED SIGNAL REPR\n",
      "PERMIT QUESTION\n",
      "PESTS\n",
      "QBUD\n",
      "QINTERNALTRANSF\n",
      "QIPL\n",
      "QJTOWN\n",
      "QLWC\n",
      "QMETROPUBLICWORK\n",
      "RAT BAITING\n",
      "RECYCL VIOLATION\n",
      "RECYCLE BINS\n",
      "RECYCLE PROGRAM\n",
      "RECYCLING MISSED\n",
      "REPORT LITTERER\n",
      "RESTAURANT ISSUE\n",
      "ROAD CONSTRUCT\n",
      "ROAD WORK ISSUE\n",
      "ROADSIDE LITTER\n",
      "SIDEWALK NEW\n",
      "SIDEWALK OBSTRUC\n",
      "SIDEWALK REPAIR\n",
      "SIGN OBSTRUCTION\n",
      "SIGNAGE NEW\n",
      "SIGNAGE REPAIR\n",
      "SMOKE AIR POLL\n",
      "SMOKE DETECTOR\n",
      "SMOKING BAN\n",
      "SPEED HUMPS\n",
      "STOLEN GARB CART\n",
      "STOLEN RECY CART\n",
      "STOP SIGN NEW\n",
      "STOP SIGN REPAIR\n",
      "STRAY ANIMAL\n",
      "STREET CLEANING\n",
      "STREET DRAINAGE\n",
      "STREET FURNITURE\n",
      "STREET HAZARD\n",
      "STREET POTHOLE\n",
      "STREET REPAIR\n",
      "STREET RESURFACE\n",
      "STREET TREE\n",
      "SUGGESTION\n",
      "TAXI CONCERNS\n",
      "TRAF BOX CONCERN\n",
      "TRAF SIG TIMING\n",
      "TRAF SIGNAL GEN\n",
      "TRAF SIGNAL NEW\n",
      "TRAF SIGNAL REPR\n",
      "TRAFFIC CONCERN\n",
      "TRAFFIC ENQUIRY\n",
      "TRASH PVT PROP\n",
      "UTILITY CONCERNS\n",
      "UTILITY CUT\n",
      "VAP EXTERIOR\n",
      "VAP LOT RATS\n",
      "VAP LOT TRASH\n",
      "VAP LOT VEHIC\n",
      "VAP LOT WEEDS\n",
      "VAP STRUC PESTS\n",
      "VAP STRUC RATS\n",
      "VAP STRUC TRASH\n",
      "VAP STRUC VEHIC\n",
      "VAP STRUC WEEDS\n",
      "VEHICLE PVT PROP\n",
      "VENDING CONCERNS\n",
      "WAIVER TOW\n",
      "WEATHER RELATED\n",
      "XANMC\n",
      "XAVRW\n",
      "XILPK\n",
      "XMSC\n",
      "XRWOB\n",
      "XSTLT\n",
      "XZONE\n",
      "YARD WASTE MISS\n",
      "YARD WASTE VIOL\n",
      "ZONING CONCERNS\n"
     ]
    }
   ],
   "source": [
    "for x in np.sort(reports.service_name.unique()):\n",
    "    print(x)"
   ]
  },
  {
   "cell_type": "code",
   "execution_count": 7,
   "metadata": {},
   "outputs": [
    {
     "name": "stdout",
     "output_type": "stream",
     "text": [
      "177\n",
      "56\n"
     ]
    }
   ],
   "source": [
    "print(len(reports.service_name.unique()))\n",
    "print(len(reports.agency_responsible.unique()))"
   ]
  },
  {
   "cell_type": "markdown",
   "metadata": {
    "nteract": {
     "transient": {
      "deleting": false
     }
    }
   },
   "source": [
    "## Agency Acronym Guide\n",
    "* IPL - Inspection, Permit, Licenses agency\n",
    "* LPM - Louisville Pothole Management\n",
    "* MSD - Metropolitan Sewer District\n",
    "* SWMS - Sewer Waste Management Systems\n",
    "\n",
    "### Back to cleaning :)\n",
    "Some agencies repeat because they fall under different departments. We'll want to rename the departments under one agency instead.\n",
    "Agencies with a \"N-\" in their name also need to be cleaned up, as well as \"NON SERVICE SWMS\""
   ]
  },
  {
   "cell_type": "code",
   "execution_count": 8,
   "metadata": {},
   "outputs": [
    {
     "data": {
      "text/plain": [
       "13    HEALTH DEPT - ENVIR. HEALTH\n",
       "39              HEALTH DEPARTMENT\n",
       "dtype: object"
      ]
     },
     "execution_count": 8,
     "metadata": {},
     "output_type": "execute_result"
    }
   ],
   "source": [
    "agency_lst = pd.Series(reports['agency_responsible'].unique())\n",
    "agency_lst[agency_lst.str.contains('HEALTH DEP')] # collect all values with the string 'HEALTH DEP'"
   ]
  },
  {
   "cell_type": "code",
   "execution_count": 9,
   "metadata": {
    "gather": {
     "logged": 1610230788593
    },
    "jupyter": {
     "outputs_hidden": false,
     "source_hidden": false
    },
    "nteract": {
     "transient": {
      "deleting": false
     }
    }
   },
   "outputs": [],
   "source": [
    "reports['agency_responsible'] = reports.agency_responsible.replace(agency_lst[agency_lst.str.contains('HEALTH DEP')].tolist(), 'HEALTH DEPARTMENT')\n",
    "reports['agency_responsible'] = reports.agency_responsible.replace(agency_lst[agency_lst.str.contains('IPL')].tolist(), 'IPL')\n",
    "\n",
    "reports['agency_responsible'] = reports.agency_responsible.replace(agency_lst[agency_lst.str.contains('MSD')].tolist(), 'METROPOLITAN SEWER DISTRICT')\n",
    "\n",
    "reports['agency_responsible'] = reports.agency_responsible.replace(agency_lst[agency_lst.str.contains('PUBLIC WORKS', case=False)].tolist(), 'PUBLIC WORKS')\n",
    "\n",
    "reports['agency_responsible'] = reports.agency_responsible.replace(agency_lst[agency_lst.str.contains('SWMS', case=False)].tolist(), 'SWMS')\n",
    "\n",
    "reports['agency_responsible'] = reports.agency_responsible.replace(regex=r'N-', value='')\n",
    "\n",
    "reports['agency_responsible'] = reports.agency_responsible.replace(regex=r'NON SERVICE ', value='')\n"
   ]
  },
  {
   "cell_type": "markdown",
   "metadata": {
    "nteract": {
     "transient": {
      "deleting": false
     }
    }
   },
   "source": [
    "Checking if names are changed..."
   ]
  },
  {
   "cell_type": "code",
   "execution_count": 10,
   "metadata": {
    "gather": {
     "logged": 1610230817437
    },
    "jupyter": {
     "outputs_hidden": false,
     "source_hidden": false
    },
    "nteract": {
     "transient": {
      "deleting": false
     }
    }
   },
   "outputs": [
    {
     "name": "stdout",
     "output_type": "stream",
     "text": [
      "35\n",
      "4TH COUNCIL DISTRICT\n",
      "AIR POLLUTION CONTROL\n",
      "ANIMAL SERVICES\n",
      "AT&T\n",
      "CABLE COMPANY\n",
      "COMMUNITY FORESTRY ARBORIST\n",
      "EMERGENCY MANAGEMENT AGENCY\n",
      "GOVERNMENT\n",
      "HEALTH DEPARTMENT\n",
      "IPL\n",
      "KY DEPT OF TRANSPORTATION\n",
      "LOUISVILLE FIRE DEPARTMENT\n",
      "LOUISVILLE GAS AND ELECTRIC\n",
      "LOUISVILLE WATER COMPANY\n",
      "LPM\n",
      "MAYOR'S OFFICE\n",
      "METRO AGENCIES\n",
      "METRO DEVELOPMENT AUTH.\n",
      "METRO FACILITIES MANAGEMENT\n",
      "METRO PARKS\n",
      "METRO POLICE DEPARTMENT\n",
      "METROCALL\n",
      "METROPOLITAN SEWER DISTRICT\n",
      "MISCELLANEOUS\n",
      "PARKING AUTHORITY OF RIVER CTY\n",
      "PICKUP DAYS\n",
      "POLICE & JUDICIAL\n",
      "PUBLIC WORKS\n",
      "SOCIAL SERVICES\n",
      "ST. MATTHEWS (CITY OF)\n",
      "SWMS\n",
      "TRANSIT AUTH. OF RIVER CITY\n",
      "UNABLE TO PROCESS\n",
      "UTILITY\n",
      "WEATHER EVENTS\n"
     ]
    }
   ],
   "source": [
    "print(len(reports.agency_responsible.unique()))\n",
    "for x in np.sort(reports.agency_responsible.unique()):\n",
    "    print(x)"
   ]
  },
  {
   "cell_type": "markdown",
   "metadata": {
    "nteract": {
     "transient": {
      "deleting": false
     }
    }
   },
   "source": [
    "## Dropping new columns\n",
    "Dropping **address** since there's latitude and longitude as well as *council_district*.\n",
    "\n",
    "Dropping **description** since it only serves to describe *service_name*."
   ]
  },
  {
   "cell_type": "code",
   "execution_count": 11,
   "metadata": {
    "gather": {
     "logged": 1610231919375
    },
    "jupyter": {
     "outputs_hidden": false,
     "source_hidden": false
    },
    "nteract": {
     "transient": {
      "deleting": false
     }
    }
   },
   "outputs": [
    {
     "data": {
      "text/html": [
       "<div>\n",
       "<style scoped>\n",
       "    .dataframe tbody tr th:only-of-type {\n",
       "        vertical-align: middle;\n",
       "    }\n",
       "\n",
       "    .dataframe tbody tr th {\n",
       "        vertical-align: top;\n",
       "    }\n",
       "\n",
       "    .dataframe thead th {\n",
       "        text-align: right;\n",
       "    }\n",
       "</style>\n",
       "<table border=\"1\" class=\"dataframe\">\n",
       "  <thead>\n",
       "    <tr style=\"text-align: right;\">\n",
       "      <th></th>\n",
       "      <th>requested_datetime</th>\n",
       "      <th>service_name</th>\n",
       "      <th>agency_responsible</th>\n",
       "      <th>council_district</th>\n",
       "      <th>status_description</th>\n",
       "      <th>lat</th>\n",
       "      <th>long</th>\n",
       "    </tr>\n",
       "  </thead>\n",
       "  <tbody>\n",
       "    <tr>\n",
       "      <th>0</th>\n",
       "      <td>2018-07-01 01:38:00</td>\n",
       "      <td>ALLEY POTHOLE</td>\n",
       "      <td>LPM</td>\n",
       "      <td>5.0</td>\n",
       "      <td>OPEN</td>\n",
       "      <td>38.250791</td>\n",
       "      <td>-85.824421</td>\n",
       "    </tr>\n",
       "  </tbody>\n",
       "</table>\n",
       "</div>"
      ],
      "text/plain": [
       "    requested_datetime   service_name agency_responsible  council_district  \\\n",
       "0  2018-07-01 01:38:00  ALLEY POTHOLE                LPM               5.0   \n",
       "\n",
       "  status_description        lat       long  \n",
       "0               OPEN  38.250791 -85.824421  "
      ]
     },
     "execution_count": 11,
     "metadata": {},
     "output_type": "execute_result"
    }
   ],
   "source": [
    "reports = reports.drop(columns=['address', 'description'])\n",
    "reports.head(1)"
   ]
  },
  {
   "cell_type": "markdown",
   "metadata": {
    "nteract": {
     "transient": {
      "deleting": false
     }
    }
   },
   "source": [
    "## Datetimes\n",
    "We want to get the day of the week and the time of day (morning, afternoon, night) from **requested_datetime**.\n",
    "\n",
    "We'll have to convert the **requested_datetime** from a string to a datetime object.\n",
    "\n",
    "### Day of week\n",
    "Range from 0 (Monday) to 6 (Sunday)\n",
    "\n",
    "### Time of day\n",
    "* 0 - call was between midnight and 8am\n",
    "* 1 - call was between 8am and 4pm\n",
    "* 2 - call was between 4pm and midnight"
   ]
  },
  {
   "cell_type": "code",
   "execution_count": 12,
   "metadata": {
    "gather": {
     "logged": 1610232729770
    },
    "jupyter": {
     "outputs_hidden": false,
     "source_hidden": false
    },
    "nteract": {
     "transient": {
      "deleting": false
     }
    }
   },
   "outputs": [],
   "source": [
    "reports['requested_datetime'] = pd.to_datetime(reports.requested_datetime)"
   ]
  },
  {
   "cell_type": "code",
   "execution_count": 13,
   "metadata": {
    "gather": {
     "logged": 1610233054703
    },
    "jupyter": {
     "outputs_hidden": false,
     "source_hidden": false
    },
    "nteract": {
     "transient": {
      "deleting": false
     }
    }
   },
   "outputs": [],
   "source": [
    "reports['request_day_of_week'] = reports.requested_datetime.dt.dayofweek\n",
    "reports['request_time_of_day'] = reports.requested_datetime.dt.hour"
   ]
  },
  {
   "cell_type": "code",
   "execution_count": 14,
   "metadata": {
    "gather": {
     "logged": 1610233784886
    },
    "jupyter": {
     "outputs_hidden": false,
     "source_hidden": false
    },
    "nteract": {
     "transient": {
      "deleting": false
     }
    }
   },
   "outputs": [],
   "source": [
    "reports.loc[reports['request_time_of_day'] > 0, 'req_time_of_day'] = 0  #morning\n",
    "reports.loc[reports['request_time_of_day'] > 8, 'req_time_of_day'] = 1 #afternoon\n",
    "reports.loc[reports['request_time_of_day'] > 16, 'req_time_of_day'] = 2 #night"
   ]
  },
  {
   "cell_type": "code",
   "execution_count": 15,
   "metadata": {
    "gather": {
     "logged": 1610233882722
    },
    "jupyter": {
     "outputs_hidden": false,
     "source_hidden": false
    },
    "nteract": {
     "transient": {
      "deleting": false
     }
    }
   },
   "outputs": [],
   "source": [
    "reports = reports.drop(columns=['requested_datetime', 'request_time_of_day'])"
   ]
  },
  {
   "cell_type": "code",
   "execution_count": 16,
   "metadata": {
    "gather": {
     "logged": 1610233909458
    },
    "jupyter": {
     "outputs_hidden": false,
     "source_hidden": false
    },
    "nteract": {
     "transient": {
      "deleting": false
     }
    }
   },
   "outputs": [
    {
     "data": {
      "text/html": [
       "<div>\n",
       "<style scoped>\n",
       "    .dataframe tbody tr th:only-of-type {\n",
       "        vertical-align: middle;\n",
       "    }\n",
       "\n",
       "    .dataframe tbody tr th {\n",
       "        vertical-align: top;\n",
       "    }\n",
       "\n",
       "    .dataframe thead th {\n",
       "        text-align: right;\n",
       "    }\n",
       "</style>\n",
       "<table border=\"1\" class=\"dataframe\">\n",
       "  <thead>\n",
       "    <tr style=\"text-align: right;\">\n",
       "      <th></th>\n",
       "      <th>service_name</th>\n",
       "      <th>agency_responsible</th>\n",
       "      <th>council_district</th>\n",
       "      <th>status_description</th>\n",
       "      <th>lat</th>\n",
       "      <th>long</th>\n",
       "      <th>request_day_of_week</th>\n",
       "      <th>req_time_of_day</th>\n",
       "    </tr>\n",
       "  </thead>\n",
       "  <tbody>\n",
       "    <tr>\n",
       "      <th>0</th>\n",
       "      <td>ALLEY POTHOLE</td>\n",
       "      <td>LPM</td>\n",
       "      <td>5.0</td>\n",
       "      <td>OPEN</td>\n",
       "      <td>38.250791</td>\n",
       "      <td>-85.824421</td>\n",
       "      <td>6</td>\n",
       "      <td>0.0</td>\n",
       "    </tr>\n",
       "    <tr>\n",
       "      <th>1</th>\n",
       "      <td>STREET TREE</td>\n",
       "      <td>LPM</td>\n",
       "      <td>5.0</td>\n",
       "      <td>OPEN</td>\n",
       "      <td>38.250791</td>\n",
       "      <td>-85.824421</td>\n",
       "      <td>6</td>\n",
       "      <td>0.0</td>\n",
       "    </tr>\n",
       "    <tr>\n",
       "      <th>2</th>\n",
       "      <td>HIGH GRASS WEEDS</td>\n",
       "      <td>IPL</td>\n",
       "      <td>7.0</td>\n",
       "      <td>CLOSED</td>\n",
       "      <td>38.281501</td>\n",
       "      <td>-85.619034</td>\n",
       "      <td>6</td>\n",
       "      <td>0.0</td>\n",
       "    </tr>\n",
       "    <tr>\n",
       "      <th>3</th>\n",
       "      <td>TRASH PVT PROP</td>\n",
       "      <td>IPL</td>\n",
       "      <td>15.0</td>\n",
       "      <td>CLOSED</td>\n",
       "      <td>38.195922</td>\n",
       "      <td>-85.775900</td>\n",
       "      <td>6</td>\n",
       "      <td>0.0</td>\n",
       "    </tr>\n",
       "    <tr>\n",
       "      <th>4</th>\n",
       "      <td>TRASH PVT PROP</td>\n",
       "      <td>IPL</td>\n",
       "      <td>15.0</td>\n",
       "      <td>CLOSED</td>\n",
       "      <td>38.196846</td>\n",
       "      <td>-85.776010</td>\n",
       "      <td>6</td>\n",
       "      <td>0.0</td>\n",
       "    </tr>\n",
       "    <tr>\n",
       "      <th>...</th>\n",
       "      <td>...</td>\n",
       "      <td>...</td>\n",
       "      <td>...</td>\n",
       "      <td>...</td>\n",
       "      <td>...</td>\n",
       "      <td>...</td>\n",
       "      <td>...</td>\n",
       "      <td>...</td>\n",
       "    </tr>\n",
       "    <tr>\n",
       "      <th>12381</th>\n",
       "      <td>ABANDON VEHICLE</td>\n",
       "      <td>METRO POLICE DEPARTMENT</td>\n",
       "      <td>14.0</td>\n",
       "      <td>CLOSED</td>\n",
       "      <td>38.099043</td>\n",
       "      <td>-85.871921</td>\n",
       "      <td>1</td>\n",
       "      <td>2.0</td>\n",
       "    </tr>\n",
       "    <tr>\n",
       "      <th>12382</th>\n",
       "      <td>HIGH GRASS WEEDS</td>\n",
       "      <td>IPL</td>\n",
       "      <td>16.0</td>\n",
       "      <td>CLOSED</td>\n",
       "      <td>38.300555</td>\n",
       "      <td>-85.638587</td>\n",
       "      <td>1</td>\n",
       "      <td>2.0</td>\n",
       "    </tr>\n",
       "    <tr>\n",
       "      <th>12383</th>\n",
       "      <td>STREET TREE</td>\n",
       "      <td>LPM</td>\n",
       "      <td>19.0</td>\n",
       "      <td>OPEN</td>\n",
       "      <td>38.249253</td>\n",
       "      <td>-85.460953</td>\n",
       "      <td>1</td>\n",
       "      <td>2.0</td>\n",
       "    </tr>\n",
       "    <tr>\n",
       "      <th>12384</th>\n",
       "      <td>EXTERIOR VIOL</td>\n",
       "      <td>IPL</td>\n",
       "      <td>5.0</td>\n",
       "      <td>CLOSED</td>\n",
       "      <td>38.264873</td>\n",
       "      <td>-85.780470</td>\n",
       "      <td>1</td>\n",
       "      <td>2.0</td>\n",
       "    </tr>\n",
       "    <tr>\n",
       "      <th>12385</th>\n",
       "      <td>EXTERIOR VIOL</td>\n",
       "      <td>IPL</td>\n",
       "      <td>5.0</td>\n",
       "      <td>CLOSED</td>\n",
       "      <td>38.264615</td>\n",
       "      <td>-85.780235</td>\n",
       "      <td>1</td>\n",
       "      <td>2.0</td>\n",
       "    </tr>\n",
       "  </tbody>\n",
       "</table>\n",
       "<p>12386 rows × 8 columns</p>\n",
       "</div>"
      ],
      "text/plain": [
       "           service_name       agency_responsible  council_district  \\\n",
       "0         ALLEY POTHOLE                      LPM               5.0   \n",
       "1           STREET TREE                      LPM               5.0   \n",
       "2      HIGH GRASS WEEDS                      IPL               7.0   \n",
       "3        TRASH PVT PROP                      IPL              15.0   \n",
       "4        TRASH PVT PROP                      IPL              15.0   \n",
       "...                 ...                      ...               ...   \n",
       "12381   ABANDON VEHICLE  METRO POLICE DEPARTMENT              14.0   \n",
       "12382  HIGH GRASS WEEDS                      IPL              16.0   \n",
       "12383       STREET TREE                      LPM              19.0   \n",
       "12384     EXTERIOR VIOL                      IPL               5.0   \n",
       "12385     EXTERIOR VIOL                      IPL               5.0   \n",
       "\n",
       "      status_description        lat       long  request_day_of_week  \\\n",
       "0                   OPEN  38.250791 -85.824421                    6   \n",
       "1                   OPEN  38.250791 -85.824421                    6   \n",
       "2                 CLOSED  38.281501 -85.619034                    6   \n",
       "3                 CLOSED  38.195922 -85.775900                    6   \n",
       "4                 CLOSED  38.196846 -85.776010                    6   \n",
       "...                  ...        ...        ...                  ...   \n",
       "12381             CLOSED  38.099043 -85.871921                    1   \n",
       "12382             CLOSED  38.300555 -85.638587                    1   \n",
       "12383               OPEN  38.249253 -85.460953                    1   \n",
       "12384             CLOSED  38.264873 -85.780470                    1   \n",
       "12385             CLOSED  38.264615 -85.780235                    1   \n",
       "\n",
       "       req_time_of_day  \n",
       "0                  0.0  \n",
       "1                  0.0  \n",
       "2                  0.0  \n",
       "3                  0.0  \n",
       "4                  0.0  \n",
       "...                ...  \n",
       "12381              2.0  \n",
       "12382              2.0  \n",
       "12383              2.0  \n",
       "12384              2.0  \n",
       "12385              2.0  \n",
       "\n",
       "[12386 rows x 8 columns]"
      ]
     },
     "execution_count": 16,
     "metadata": {},
     "output_type": "execute_result"
    }
   ],
   "source": [
    "reports"
   ]
  },
  {
   "cell_type": "markdown",
   "metadata": {},
   "source": [
    "## Final edits: Encoding categorical values\n",
    "We're encoding categorical data (string values) for use in our models.\n",
    "\n",
    "### Types of Encoding\n",
    "* **Label Encoding**: each value in the column corresponds to a number.\n",
    "* **One Hot Encoding**: each value in the column corresponds to its own column. 1 denotes that the row has the value, 0 means it does not have that value.\n",
    "\n",
    "*Editor's Note: One-hot encoding is a favorite of mine, as you don't have to worry as much about choosing algorithms that might assume a ranked category (unlike label encoding). However, it takes up more space in general and might not be as feasible for certain applications.*\n",
    "\n",
    "### What needs encoding?\n",
    "Checking the datatypes and from prior knowledge, we find these columns need encoding:\n",
    "* *service_name*\n",
    "* *agency_responsible*\n",
    "* *council_district*\n",
    "* *status_description*\n",
    "\n",
    "### Service Name\n",
    "There's 177 different values for service name, so we're going to be using label encoding for the purposes of this demonstration.\n",
    "\n",
    "### Agency Responsible\n",
    "Theres 35 agencies, so we could also use One-hot encoding for this column. However, we'll also be using label encoding.\n",
    "\n",
    "### Council District\n",
    "We're using label encoding. There's 27 districts, so it's not as large as service_name or agency_responsible.\n",
    "\n",
    "### Status Description\n",
    "We're using One Hot Encoding for demonstration. There's only 2 categories, so it's fairly easy to do.\n",
    "* 0 - Closed\n",
    "* 1 - Open"
   ]
  },
  {
   "cell_type": "code",
   "execution_count": 17,
   "metadata": {
    "scrolled": false
   },
   "outputs": [
    {
     "data": {
      "text/plain": [
       "service_name            object\n",
       "agency_responsible      object\n",
       "council_district       float64\n",
       "status_description      object\n",
       "lat                    float64\n",
       "long                   float64\n",
       "request_day_of_week      int64\n",
       "req_time_of_day        float64\n",
       "dtype: object"
      ]
     },
     "execution_count": 17,
     "metadata": {},
     "output_type": "execute_result"
    }
   ],
   "source": [
    "reports.dtypes"
   ]
  },
  {
   "cell_type": "code",
   "execution_count": 18,
   "metadata": {},
   "outputs": [
    {
     "name": "stdout",
     "output_type": "stream",
     "text": [
      "177\n",
      "35\n",
      "27\n",
      "2\n"
     ]
    }
   ],
   "source": [
    "print(len(reports.service_name.unique()))\n",
    "print(len(reports.agency_responsible.unique()))\n",
    "print(len(reports.council_district.unique()))\n",
    "print(len(reports.status_description.unique()))"
   ]
  },
  {
   "cell_type": "code",
   "execution_count": 19,
   "metadata": {},
   "outputs": [],
   "source": [
    "reports[\"agency_responsible\"] = reports[\"agency_responsible\"].astype('category')\n",
    "reports[\"service_name\"] = reports[\"service_name\"].astype('category')\n",
    "reports['council_district'] = reports['council_district'].astype('category')"
   ]
  },
  {
   "cell_type": "code",
   "execution_count": 20,
   "metadata": {
    "scrolled": true
   },
   "outputs": [],
   "source": [
    "#reports = pd.get_dummies(reports, columns=['status_description'])\n",
    "reports['status_description'] = reports['status_description'].map({'OPEN':1, 'CLOSED':0})"
   ]
  },
  {
   "cell_type": "code",
   "execution_count": 21,
   "metadata": {},
   "outputs": [
    {
     "data": {
      "text/plain": [
       "service_name           category\n",
       "agency_responsible     category\n",
       "council_district       category\n",
       "status_description        int64\n",
       "lat                     float64\n",
       "long                    float64\n",
       "request_day_of_week       int64\n",
       "req_time_of_day         float64\n",
       "dtype: object"
      ]
     },
     "execution_count": 21,
     "metadata": {},
     "output_type": "execute_result"
    }
   ],
   "source": [
    "reports.dtypes"
   ]
  },
  {
   "cell_type": "code",
   "execution_count": 22,
   "metadata": {
    "scrolled": true
   },
   "outputs": [
    {
     "data": {
      "text/html": [
       "<div>\n",
       "<style scoped>\n",
       "    .dataframe tbody tr th:only-of-type {\n",
       "        vertical-align: middle;\n",
       "    }\n",
       "\n",
       "    .dataframe tbody tr th {\n",
       "        vertical-align: top;\n",
       "    }\n",
       "\n",
       "    .dataframe thead th {\n",
       "        text-align: right;\n",
       "    }\n",
       "</style>\n",
       "<table border=\"1\" class=\"dataframe\">\n",
       "  <thead>\n",
       "    <tr style=\"text-align: right;\">\n",
       "      <th></th>\n",
       "      <th>service_name</th>\n",
       "      <th>status_description</th>\n",
       "      <th>lat</th>\n",
       "      <th>long</th>\n",
       "      <th>request_day_of_week</th>\n",
       "      <th>req_time_of_day</th>\n",
       "      <th>council_district_1.0</th>\n",
       "      <th>council_district_2.0</th>\n",
       "      <th>council_district_3.0</th>\n",
       "      <th>council_district_4.0</th>\n",
       "      <th>...</th>\n",
       "      <th>agency_responsible_PICKUP DAYS</th>\n",
       "      <th>agency_responsible_POLICE &amp; JUDICIAL</th>\n",
       "      <th>agency_responsible_PUBLIC WORKS</th>\n",
       "      <th>agency_responsible_SOCIAL SERVICES</th>\n",
       "      <th>agency_responsible_ST. MATTHEWS (CITY OF)</th>\n",
       "      <th>agency_responsible_SWMS</th>\n",
       "      <th>agency_responsible_TRANSIT AUTH. OF RIVER CITY</th>\n",
       "      <th>agency_responsible_UNABLE TO PROCESS</th>\n",
       "      <th>agency_responsible_UTILITY</th>\n",
       "      <th>agency_responsible_WEATHER EVENTS</th>\n",
       "    </tr>\n",
       "  </thead>\n",
       "  <tbody>\n",
       "    <tr>\n",
       "      <th>0</th>\n",
       "      <td>4</td>\n",
       "      <td>1</td>\n",
       "      <td>38.250791</td>\n",
       "      <td>-85.824421</td>\n",
       "      <td>6</td>\n",
       "      <td>0.0</td>\n",
       "      <td>0</td>\n",
       "      <td>0</td>\n",
       "      <td>0</td>\n",
       "      <td>0</td>\n",
       "      <td>...</td>\n",
       "      <td>0</td>\n",
       "      <td>0</td>\n",
       "      <td>0</td>\n",
       "      <td>0</td>\n",
       "      <td>0</td>\n",
       "      <td>0</td>\n",
       "      <td>0</td>\n",
       "      <td>0</td>\n",
       "      <td>0</td>\n",
       "      <td>0</td>\n",
       "    </tr>\n",
       "    <tr>\n",
       "      <th>1</th>\n",
       "      <td>140</td>\n",
       "      <td>1</td>\n",
       "      <td>38.250791</td>\n",
       "      <td>-85.824421</td>\n",
       "      <td>6</td>\n",
       "      <td>0.0</td>\n",
       "      <td>0</td>\n",
       "      <td>0</td>\n",
       "      <td>0</td>\n",
       "      <td>0</td>\n",
       "      <td>...</td>\n",
       "      <td>0</td>\n",
       "      <td>0</td>\n",
       "      <td>0</td>\n",
       "      <td>0</td>\n",
       "      <td>0</td>\n",
       "      <td>0</td>\n",
       "      <td>0</td>\n",
       "      <td>0</td>\n",
       "      <td>0</td>\n",
       "      <td>0</td>\n",
       "    </tr>\n",
       "    <tr>\n",
       "      <th>2</th>\n",
       "      <td>41</td>\n",
       "      <td>0</td>\n",
       "      <td>38.281501</td>\n",
       "      <td>-85.619034</td>\n",
       "      <td>6</td>\n",
       "      <td>0.0</td>\n",
       "      <td>0</td>\n",
       "      <td>0</td>\n",
       "      <td>0</td>\n",
       "      <td>0</td>\n",
       "      <td>...</td>\n",
       "      <td>0</td>\n",
       "      <td>0</td>\n",
       "      <td>0</td>\n",
       "      <td>0</td>\n",
       "      <td>0</td>\n",
       "      <td>0</td>\n",
       "      <td>0</td>\n",
       "      <td>0</td>\n",
       "      <td>0</td>\n",
       "      <td>0</td>\n",
       "    </tr>\n",
       "    <tr>\n",
       "      <th>3</th>\n",
       "      <td>150</td>\n",
       "      <td>0</td>\n",
       "      <td>38.195922</td>\n",
       "      <td>-85.775900</td>\n",
       "      <td>6</td>\n",
       "      <td>0.0</td>\n",
       "      <td>0</td>\n",
       "      <td>0</td>\n",
       "      <td>0</td>\n",
       "      <td>0</td>\n",
       "      <td>...</td>\n",
       "      <td>0</td>\n",
       "      <td>0</td>\n",
       "      <td>0</td>\n",
       "      <td>0</td>\n",
       "      <td>0</td>\n",
       "      <td>0</td>\n",
       "      <td>0</td>\n",
       "      <td>0</td>\n",
       "      <td>0</td>\n",
       "      <td>0</td>\n",
       "    </tr>\n",
       "    <tr>\n",
       "      <th>4</th>\n",
       "      <td>150</td>\n",
       "      <td>0</td>\n",
       "      <td>38.196846</td>\n",
       "      <td>-85.776010</td>\n",
       "      <td>6</td>\n",
       "      <td>0.0</td>\n",
       "      <td>0</td>\n",
       "      <td>0</td>\n",
       "      <td>0</td>\n",
       "      <td>0</td>\n",
       "      <td>...</td>\n",
       "      <td>0</td>\n",
       "      <td>0</td>\n",
       "      <td>0</td>\n",
       "      <td>0</td>\n",
       "      <td>0</td>\n",
       "      <td>0</td>\n",
       "      <td>0</td>\n",
       "      <td>0</td>\n",
       "      <td>0</td>\n",
       "      <td>0</td>\n",
       "    </tr>\n",
       "  </tbody>\n",
       "</table>\n",
       "<p>5 rows × 67 columns</p>\n",
       "</div>"
      ],
      "text/plain": [
       "   service_name  status_description        lat       long  \\\n",
       "0             4                   1  38.250791 -85.824421   \n",
       "1           140                   1  38.250791 -85.824421   \n",
       "2            41                   0  38.281501 -85.619034   \n",
       "3           150                   0  38.195922 -85.775900   \n",
       "4           150                   0  38.196846 -85.776010   \n",
       "\n",
       "   request_day_of_week  req_time_of_day  council_district_1.0  \\\n",
       "0                    6              0.0                     0   \n",
       "1                    6              0.0                     0   \n",
       "2                    6              0.0                     0   \n",
       "3                    6              0.0                     0   \n",
       "4                    6              0.0                     0   \n",
       "\n",
       "   council_district_2.0  council_district_3.0  council_district_4.0  ...  \\\n",
       "0                     0                     0                     0  ...   \n",
       "1                     0                     0                     0  ...   \n",
       "2                     0                     0                     0  ...   \n",
       "3                     0                     0                     0  ...   \n",
       "4                     0                     0                     0  ...   \n",
       "\n",
       "   agency_responsible_PICKUP DAYS  agency_responsible_POLICE & JUDICIAL  \\\n",
       "0                               0                                     0   \n",
       "1                               0                                     0   \n",
       "2                               0                                     0   \n",
       "3                               0                                     0   \n",
       "4                               0                                     0   \n",
       "\n",
       "   agency_responsible_PUBLIC WORKS  agency_responsible_SOCIAL SERVICES  \\\n",
       "0                                0                                   0   \n",
       "1                                0                                   0   \n",
       "2                                0                                   0   \n",
       "3                                0                                   0   \n",
       "4                                0                                   0   \n",
       "\n",
       "   agency_responsible_ST. MATTHEWS (CITY OF)  agency_responsible_SWMS  \\\n",
       "0                                          0                        0   \n",
       "1                                          0                        0   \n",
       "2                                          0                        0   \n",
       "3                                          0                        0   \n",
       "4                                          0                        0   \n",
       "\n",
       "   agency_responsible_TRANSIT AUTH. OF RIVER CITY  \\\n",
       "0                                               0   \n",
       "1                                               0   \n",
       "2                                               0   \n",
       "3                                               0   \n",
       "4                                               0   \n",
       "\n",
       "   agency_responsible_UNABLE TO PROCESS  agency_responsible_UTILITY  \\\n",
       "0                                     0                           0   \n",
       "1                                     0                           0   \n",
       "2                                     0                           0   \n",
       "3                                     0                           0   \n",
       "4                                     0                           0   \n",
       "\n",
       "   agency_responsible_WEATHER EVENTS  \n",
       "0                                  0  \n",
       "1                                  0  \n",
       "2                                  0  \n",
       "3                                  0  \n",
       "4                                  0  \n",
       "\n",
       "[5 rows x 67 columns]"
      ]
     },
     "execution_count": 22,
     "metadata": {},
     "output_type": "execute_result"
    }
   ],
   "source": [
    "reports_oh = reports.copy()\n",
    "reports['service_name'] = reports['service_name'].cat.codes\n",
    "reports = pd.get_dummies(reports, columns=['council_district', 'agency_responsible'])\n",
    "reports.head()"
   ]
  },
  {
   "cell_type": "code",
   "execution_count": 23,
   "metadata": {
    "gather": {
     "logged": 1610234206351
    },
    "jupyter": {
     "outputs_hidden": false,
     "source_hidden": false
    },
    "nteract": {
     "transient": {
      "deleting": false
     }
    }
   },
   "outputs": [],
   "source": [
    "#reports.to_csv('311data_cleaned.csv', index='False')"
   ]
  },
  {
   "cell_type": "markdown",
   "metadata": {},
   "source": [
    "## Optional: All One Hot Encoding"
   ]
  },
  {
   "cell_type": "code",
   "execution_count": 24,
   "metadata": {
    "scrolled": true
   },
   "outputs": [],
   "source": [
    "reports_oh = pd.get_dummies(reports_oh, columns=['council_district', 'agency_responsible', 'service_name'])"
   ]
  },
  {
   "cell_type": "code",
   "execution_count": 25,
   "metadata": {},
   "outputs": [
    {
     "data": {
      "text/html": [
       "<div>\n",
       "<style scoped>\n",
       "    .dataframe tbody tr th:only-of-type {\n",
       "        vertical-align: middle;\n",
       "    }\n",
       "\n",
       "    .dataframe tbody tr th {\n",
       "        vertical-align: top;\n",
       "    }\n",
       "\n",
       "    .dataframe thead th {\n",
       "        text-align: right;\n",
       "    }\n",
       "</style>\n",
       "<table border=\"1\" class=\"dataframe\">\n",
       "  <thead>\n",
       "    <tr style=\"text-align: right;\">\n",
       "      <th></th>\n",
       "      <th>status_description</th>\n",
       "      <th>lat</th>\n",
       "      <th>long</th>\n",
       "      <th>request_day_of_week</th>\n",
       "      <th>req_time_of_day</th>\n",
       "      <th>council_district_1.0</th>\n",
       "      <th>council_district_2.0</th>\n",
       "      <th>council_district_3.0</th>\n",
       "      <th>council_district_4.0</th>\n",
       "      <th>council_district_5.0</th>\n",
       "      <th>...</th>\n",
       "      <th>service_name_XANMC</th>\n",
       "      <th>service_name_XAVRW</th>\n",
       "      <th>service_name_XILPK</th>\n",
       "      <th>service_name_XMSC</th>\n",
       "      <th>service_name_XRWOB</th>\n",
       "      <th>service_name_XSTLT</th>\n",
       "      <th>service_name_XZONE</th>\n",
       "      <th>service_name_YARD WASTE MISS</th>\n",
       "      <th>service_name_YARD WASTE VIOL</th>\n",
       "      <th>service_name_ZONING CONCERNS</th>\n",
       "    </tr>\n",
       "  </thead>\n",
       "  <tbody>\n",
       "    <tr>\n",
       "      <th>0</th>\n",
       "      <td>1</td>\n",
       "      <td>38.250791</td>\n",
       "      <td>-85.824421</td>\n",
       "      <td>6</td>\n",
       "      <td>0.0</td>\n",
       "      <td>0</td>\n",
       "      <td>0</td>\n",
       "      <td>0</td>\n",
       "      <td>0</td>\n",
       "      <td>1</td>\n",
       "      <td>...</td>\n",
       "      <td>0</td>\n",
       "      <td>0</td>\n",
       "      <td>0</td>\n",
       "      <td>0</td>\n",
       "      <td>0</td>\n",
       "      <td>0</td>\n",
       "      <td>0</td>\n",
       "      <td>0</td>\n",
       "      <td>0</td>\n",
       "      <td>0</td>\n",
       "    </tr>\n",
       "    <tr>\n",
       "      <th>1</th>\n",
       "      <td>1</td>\n",
       "      <td>38.250791</td>\n",
       "      <td>-85.824421</td>\n",
       "      <td>6</td>\n",
       "      <td>0.0</td>\n",
       "      <td>0</td>\n",
       "      <td>0</td>\n",
       "      <td>0</td>\n",
       "      <td>0</td>\n",
       "      <td>1</td>\n",
       "      <td>...</td>\n",
       "      <td>0</td>\n",
       "      <td>0</td>\n",
       "      <td>0</td>\n",
       "      <td>0</td>\n",
       "      <td>0</td>\n",
       "      <td>0</td>\n",
       "      <td>0</td>\n",
       "      <td>0</td>\n",
       "      <td>0</td>\n",
       "      <td>0</td>\n",
       "    </tr>\n",
       "    <tr>\n",
       "      <th>2</th>\n",
       "      <td>0</td>\n",
       "      <td>38.281501</td>\n",
       "      <td>-85.619034</td>\n",
       "      <td>6</td>\n",
       "      <td>0.0</td>\n",
       "      <td>0</td>\n",
       "      <td>0</td>\n",
       "      <td>0</td>\n",
       "      <td>0</td>\n",
       "      <td>0</td>\n",
       "      <td>...</td>\n",
       "      <td>0</td>\n",
       "      <td>0</td>\n",
       "      <td>0</td>\n",
       "      <td>0</td>\n",
       "      <td>0</td>\n",
       "      <td>0</td>\n",
       "      <td>0</td>\n",
       "      <td>0</td>\n",
       "      <td>0</td>\n",
       "      <td>0</td>\n",
       "    </tr>\n",
       "    <tr>\n",
       "      <th>3</th>\n",
       "      <td>0</td>\n",
       "      <td>38.195922</td>\n",
       "      <td>-85.775900</td>\n",
       "      <td>6</td>\n",
       "      <td>0.0</td>\n",
       "      <td>0</td>\n",
       "      <td>0</td>\n",
       "      <td>0</td>\n",
       "      <td>0</td>\n",
       "      <td>0</td>\n",
       "      <td>...</td>\n",
       "      <td>0</td>\n",
       "      <td>0</td>\n",
       "      <td>0</td>\n",
       "      <td>0</td>\n",
       "      <td>0</td>\n",
       "      <td>0</td>\n",
       "      <td>0</td>\n",
       "      <td>0</td>\n",
       "      <td>0</td>\n",
       "      <td>0</td>\n",
       "    </tr>\n",
       "    <tr>\n",
       "      <th>4</th>\n",
       "      <td>0</td>\n",
       "      <td>38.196846</td>\n",
       "      <td>-85.776010</td>\n",
       "      <td>6</td>\n",
       "      <td>0.0</td>\n",
       "      <td>0</td>\n",
       "      <td>0</td>\n",
       "      <td>0</td>\n",
       "      <td>0</td>\n",
       "      <td>0</td>\n",
       "      <td>...</td>\n",
       "      <td>0</td>\n",
       "      <td>0</td>\n",
       "      <td>0</td>\n",
       "      <td>0</td>\n",
       "      <td>0</td>\n",
       "      <td>0</td>\n",
       "      <td>0</td>\n",
       "      <td>0</td>\n",
       "      <td>0</td>\n",
       "      <td>0</td>\n",
       "    </tr>\n",
       "  </tbody>\n",
       "</table>\n",
       "<p>5 rows × 243 columns</p>\n",
       "</div>"
      ],
      "text/plain": [
       "   status_description        lat       long  request_day_of_week  \\\n",
       "0                   1  38.250791 -85.824421                    6   \n",
       "1                   1  38.250791 -85.824421                    6   \n",
       "2                   0  38.281501 -85.619034                    6   \n",
       "3                   0  38.195922 -85.775900                    6   \n",
       "4                   0  38.196846 -85.776010                    6   \n",
       "\n",
       "   req_time_of_day  council_district_1.0  council_district_2.0  \\\n",
       "0              0.0                     0                     0   \n",
       "1              0.0                     0                     0   \n",
       "2              0.0                     0                     0   \n",
       "3              0.0                     0                     0   \n",
       "4              0.0                     0                     0   \n",
       "\n",
       "   council_district_3.0  council_district_4.0  council_district_5.0  ...  \\\n",
       "0                     0                     0                     1  ...   \n",
       "1                     0                     0                     1  ...   \n",
       "2                     0                     0                     0  ...   \n",
       "3                     0                     0                     0  ...   \n",
       "4                     0                     0                     0  ...   \n",
       "\n",
       "   service_name_XANMC  service_name_XAVRW  service_name_XILPK  \\\n",
       "0                   0                   0                   0   \n",
       "1                   0                   0                   0   \n",
       "2                   0                   0                   0   \n",
       "3                   0                   0                   0   \n",
       "4                   0                   0                   0   \n",
       "\n",
       "   service_name_XMSC  service_name_XRWOB  service_name_XSTLT  \\\n",
       "0                  0                   0                   0   \n",
       "1                  0                   0                   0   \n",
       "2                  0                   0                   0   \n",
       "3                  0                   0                   0   \n",
       "4                  0                   0                   0   \n",
       "\n",
       "   service_name_XZONE  service_name_YARD WASTE MISS  \\\n",
       "0                   0                             0   \n",
       "1                   0                             0   \n",
       "2                   0                             0   \n",
       "3                   0                             0   \n",
       "4                   0                             0   \n",
       "\n",
       "   service_name_YARD WASTE VIOL  service_name_ZONING CONCERNS  \n",
       "0                             0                             0  \n",
       "1                             0                             0  \n",
       "2                             0                             0  \n",
       "3                             0                             0  \n",
       "4                             0                             0  \n",
       "\n",
       "[5 rows x 243 columns]"
      ]
     },
     "execution_count": 25,
     "metadata": {},
     "output_type": "execute_result"
    }
   ],
   "source": [
    "reports_oh.head()"
   ]
  },
  {
   "cell_type": "code",
   "execution_count": 26,
   "metadata": {},
   "outputs": [],
   "source": [
    "#reports_oh.to_csv('311data_cleaned_oh.csv', index='False')"
   ]
  }
 ],
 "metadata": {
  "kernel_info": {
   "name": "python3-azureml"
  },
  "kernelspec": {
   "display_name": "Python 3",
   "language": "python",
   "name": "python3"
  },
  "language_info": {
   "codemirror_mode": {
    "name": "ipython",
    "version": 3
   },
   "file_extension": ".py",
   "mimetype": "text/x-python",
   "name": "python",
   "nbconvert_exporter": "python",
   "pygments_lexer": "ipython3",
   "version": "3.8.3"
  },
  "nteract": {
   "version": "nteract-front-end@1.0.0"
  }
 },
 "nbformat": 4,
 "nbformat_minor": 2
}
